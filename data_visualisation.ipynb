{
 "cells": [
  {
   "cell_type": "code",
   "execution_count": null,
   "metadata": {
    "scrolled": false
   },
   "outputs": [],
   "source": [
    "import sys\n",
    "import json\n",
    "import urllib.parse\n",
    "import itertools\n",
    "from typing import List, Set, Dict, Any\n",
    "from pprint import pprint\n",
    "from loguru import logger\n",
    "import pandas as pd\n",
    "from matplotlib import pyplot as plt\n",
    "\n",
    "# filename_final_result = 'data/preprocess_output/result.json'\n",
    "filename_final_result = 'data/preprocess_output/result_cz_gov.json'\n",
    "# filename_final_result = 'data/preprocess_output/result_top_500.json'\n",
    "\n",
    "\n",
    "def load_data():\n",
    "    with open(filename_final_result, \"r\", encoding=\"utf8\") as f:\n",
    "        return json.load(f)\n",
    "\n",
    "# with open('data/pyspf/raw.json', 'r', encoding='utf8') as f:\n",
    "#    pyspf = json.load(f)\n",
    "\n",
    "    \n",
    "    \n",
    "def cleanup_to_pd(data):\n",
    "    df = pd.DataFrame(data)\n",
    "    df.drop(['extract_dns_txt_dmarc', 'extract_dns_txt_spf', 'raw_result'], inplace=True)\n",
    "    df = df.transpose()\n",
    "    \n",
    "    df.reset_index(inplace=True)\n",
    "    df.rename(columns = {'index':'domain_name'}, inplace=True)\n",
    "    \n",
    "    # df['sort_val'] = df.loc[:,'domain_name'].apply(lambda x: x[::-1])\n",
    "    df['sort_val'] = df.loc[:,'domain_name'].apply(lambda x: x.split(\".\")[-2:-1])\n",
    "\n",
    "\n",
    "    df = df.sort_values(by='sort_val').drop('sort_val', 1)\n",
    "    df.reset_index(inplace=True, drop=True)\n",
    "\n",
    "    \n",
    "    return df\n",
    "\n",
    "raw_data = load_data()\n",
    "main_data = cleanup_to_pd(raw_data)\n",
    "\n",
    "main_data.to_csv(\"data/pd.csv\")\n",
    "\n",
    "main_data"
   ]
  },
  {
   "cell_type": "code",
   "execution_count": null,
   "metadata": {},
   "outputs": [],
   "source": []
  },
  {
   "cell_type": "markdown",
   "metadata": {},
   "source": [
    "## Table of second level domains"
   ]
  },
  {
   "cell_type": "code",
   "execution_count": null,
   "metadata": {
    "scrolled": false
   },
   "outputs": [],
   "source": [
    "#second_level_domains = main_data.loc[(main_data['is_main_domain'])]\n",
    "#second_level_domains\n",
    "main_data.loc[(main_data['is_main_domain'])]"
   ]
  },
  {
   "cell_type": "markdown",
   "metadata": {},
   "source": [
    "## Table of domains (all levels) which have DNS MX record."
   ]
  },
  {
   "cell_type": "code",
   "execution_count": null,
   "metadata": {
    "scrolled": false
   },
   "outputs": [],
   "source": [
    "has_mx_records = main_data.loc[(main_data['has_mx_record'])]\n",
    "has_mx_records"
   ]
  },
  {
   "cell_type": "markdown",
   "metadata": {},
   "source": [
    "## Table of second level domains which have DNS MX record.\n",
    "\n",
    "Theses domains will be for the most part core of the analysis."
   ]
  },
  {
   "cell_type": "code",
   "execution_count": null,
   "metadata": {
    "scrolled": false
   },
   "outputs": [],
   "source": [
    "second_level_domains_with_mx = main_data.loc[(main_data['is_main_domain']) & (main_data['has_mx_record'])]\n",
    "second_level_domains_with_mx\n",
    "# main_data.loc[(main_data['is_main_domain']) & (main_data['has_mx_record'])]"
   ]
  },
  {
   "cell_type": "markdown",
   "metadata": {},
   "source": [
    "## Table of domains, that have SPF, but are not second level domains\n",
    "\n",
    "These domains will mostly be ignore for the rest of this analysis."
   ]
  },
  {
   "cell_type": "code",
   "execution_count": null,
   "metadata": {
    "scrolled": false
   },
   "outputs": [],
   "source": [
    "# Has SPF, but is not second level domain\n",
    "main_data.loc[(main_data['is_main_domain'] == False) & (main_data['is_main_domain_or_spf_or_dmarc'])]"
   ]
  },
  {
   "cell_type": "code",
   "execution_count": null,
   "metadata": {
    "scrolled": false
   },
   "outputs": [],
   "source": [
    "#second_level_domains_with_mx.loc[(second_level_domains_with_mx['has_spf_record']==False) & (second_level_domains_with_mx['has_dmarc_record'])]"
   ]
  },
  {
   "cell_type": "code",
   "execution_count": null,
   "metadata": {},
   "outputs": [],
   "source": [
    "main_data_backup = main_data\n",
    "data_table = second_level_domains_with_mx\n",
    "\n",
    "del main_data\n",
    "del second_level_domains_with_mx\n",
    "\n",
    "data_table"
   ]
  },
  {
   "cell_type": "markdown",
   "metadata": {},
   "source": [
    "***\n",
    "\n",
    "# Only domains with MX record bellow here"
   ]
  },
  {
   "cell_type": "markdown",
   "metadata": {},
   "source": [
    "## No-SPF vs {?, ~, -}all SPF"
   ]
  },
  {
   "cell_type": "code",
   "execution_count": null,
   "metadata": {
    "scrolled": false
   },
   "outputs": [],
   "source": [
    "#second_level_domains_with_mx.groupby(['spf_all']).agg(['count'])\n",
    "all_policy = data_table.value_counts(\"spf_all\")\n",
    "all_policy"
   ]
  },
  {
   "cell_type": "code",
   "execution_count": null,
   "metadata": {
    "scrolled": false
   },
   "outputs": [],
   "source": [
    "# plt.style.use('dark_background')\n",
    "print(all_policy)\n",
    "all_policy.plot.pie(\n",
    "    ylabel=\"Default policy (all)\",\n",
    "    radius=1,\n",
    "    autopct='%1.1f%%',\n",
    "    figsize=(10,10)\n",
    ").legend(prop={'size': 20})"
   ]
  },
  {
   "cell_type": "markdown",
   "metadata": {},
   "source": [
    "## Table of domains that included using include:domain"
   ]
  },
  {
   "cell_type": "code",
   "execution_count": null,
   "metadata": {
    "scrolled": false
   },
   "outputs": [],
   "source": [
    "has_direct_include = data_table.loc[(data_table['direct_includes'].str.len() > 0)]\n",
    "has_direct_include"
   ]
  },
  {
   "cell_type": "code",
   "execution_count": null,
   "metadata": {
    "scrolled": false
   },
   "outputs": [],
   "source": [
    "def calcalate_freq_of_direct_includes(data):\n",
    "    direct_includes_arr = data['direct_includes'].to_numpy()\n",
    "    direct_includes_arr\n",
    "    direct_includes_freq_count = {}\n",
    "    for x in direct_includes_arr:\n",
    "        separate_includes = x.split(\";\")\n",
    "        for y in separate_includes:\n",
    "            direct_includes_freq_count[y] = direct_includes_freq_count.get(y, 0) + 1\n",
    "    return direct_includes_freq_count\n",
    "\n",
    "direct_includes_freq_count = calcalate_freq_of_direct_includes(has_direct_include)\n",
    "direct_includes_freq_count"
   ]
  },
  {
   "cell_type": "markdown",
   "metadata": {},
   "source": [
    "## Table of domains most directly included using include:domain"
   ]
  },
  {
   "cell_type": "code",
   "execution_count": null,
   "metadata": {
    "scrolled": false
   },
   "outputs": [],
   "source": [
    "direct_includes_freq_count_pd = pd.DataFrame(direct_includes_freq_count, index=['count'])\n",
    "direct_includes_freq_count_pd = direct_includes_freq_count_pd.transpose()\n",
    "direct_includes_freq_count_pd.sort_values('count', ascending=False, inplace=True)\n",
    "direct_includes_freq_count_pd\n"
   ]
  },
  {
   "cell_type": "markdown",
   "metadata": {},
   "source": [
    "## Graph of domains most directly included using include:domain (limit to 15 most common results)"
   ]
  },
  {
   "cell_type": "code",
   "execution_count": null,
   "metadata": {
    "scrolled": true
   },
   "outputs": [],
   "source": [
    "direct_includes_freq_count_pd.head(15).plot(kind=\"barh\", figsize=(10,10))\n",
    "plt.xlabel(\"Number unique domanins that included this SPF tag\")\n",
    "\n",
    "pass"
   ]
  },
  {
   "cell_type": "code",
   "execution_count": null,
   "metadata": {
    "scrolled": false
   },
   "outputs": [],
   "source": [
    "# with open('data/pyspf.out', 'r', encoding='utf8') as f:\n",
    "#     pyspf = json.load(f)"
   ]
  },
  {
   "cell_type": "markdown",
   "metadata": {},
   "source": [
    "## Results for domains that permerrored (i.e. SPF will always fail)"
   ]
  },
  {
   "cell_type": "code",
   "execution_count": null,
   "metadata": {
    "scrolled": false
   },
   "outputs": [],
   "source": [
    "# perm_errors = dict(filter(lambda x: x[1][0]=='permerror', pyspf.items()))\n",
    "# perm_errors\n",
    "\n",
    "# WARNING! main_data_backup\n",
    "perm_errors = main_data_backup.loc[(main_data_backup['pyspf_result'] == 'permerror')]\n",
    "perm_errors"
   ]
  },
  {
   "cell_type": "markdown",
   "metadata": {},
   "source": [
    "## Results for domains that temperrored resolution"
   ]
  },
  {
   "cell_type": "code",
   "execution_count": null,
   "metadata": {
    "scrolled": false
   },
   "outputs": [],
   "source": [
    "#temp_errors = dict(filter(lambda x: x[1][0]=='temperror', pyspf.items()))\n",
    "#temp_errors\n",
    "\n",
    "# WARNING! main_data_backup\n",
    "main_data_backup.loc[(main_data_backup['pyspf_result'] == 'temperror')]"
   ]
  },
  {
   "cell_type": "markdown",
   "metadata": {},
   "source": [
    "## Results for domains that allowed sending from bogus IP"
   ]
  },
  {
   "cell_type": "code",
   "execution_count": null,
   "metadata": {
    "scrolled": false
   },
   "outputs": [],
   "source": [
    "#pass_for_bogus_ip = dict(filter(lambda x: x[1][0]=='pass', pyspf.items()))\n",
    "#pass_for_bogus_ip\n",
    "\n",
    "# WARNING! main_data_backup\n",
    "main_data_backup.loc[(main_data_backup['pyspf_result'] == 'pass')]"
   ]
  },
  {
   "cell_type": "markdown",
   "metadata": {},
   "source": [
    "## Table of second level domains sorted asc by directly allowed IPv4 range size (i.e. largest range first)"
   ]
  },
  {
   "cell_type": "code",
   "execution_count": null,
   "metadata": {
    "scrolled": false
   },
   "outputs": [],
   "source": [
    "data_table.sort_values(by='extract_largest_direct_ranges_ip4', ascending=True)"
   ]
  },
  {
   "cell_type": "markdown",
   "metadata": {},
   "source": [
    "## Table of second level domains sorted asc by directly allowed IPv6 range size (i.e. largest range first)"
   ]
  },
  {
   "cell_type": "code",
   "execution_count": null,
   "metadata": {
    "scrolled": false
   },
   "outputs": [],
   "source": [
    "data_table.sort_values(by='extract_largest_direct_ranges_ip6', ascending=True)"
   ]
  },
  {
   "cell_type": "markdown",
   "metadata": {},
   "source": [
    "## Table of second level domains sorted asc by directly allowed MX range size (i.e. largest range first)"
   ]
  },
  {
   "cell_type": "code",
   "execution_count": null,
   "metadata": {
    "scrolled": false
   },
   "outputs": [],
   "source": [
    "data_table.sort_values(by='extract_largest_direct_ranges_mx', ascending=True)"
   ]
  },
  {
   "cell_type": "markdown",
   "metadata": {},
   "source": [
    "## Domains with SPF record"
   ]
  },
  {
   "cell_type": "code",
   "execution_count": null,
   "metadata": {
    "scrolled": false
   },
   "outputs": [],
   "source": [
    "data_table.loc[(data_table['has_spf_record'])]"
   ]
  },
  {
   "cell_type": "markdown",
   "metadata": {},
   "source": [
    "## Domains with DMARC record"
   ]
  },
  {
   "cell_type": "code",
   "execution_count": null,
   "metadata": {
    "scrolled": false
   },
   "outputs": [],
   "source": [
    "has_dmarc = data_table.loc[(data_table['has_dmarc_record'])]"
   ]
  },
  {
   "cell_type": "markdown",
   "metadata": {},
   "source": [
    "## Domains with SPF but no DMARC"
   ]
  },
  {
   "cell_type": "code",
   "execution_count": null,
   "metadata": {
    "scrolled": false
   },
   "outputs": [],
   "source": [
    "data_table.loc[(data_table['has_spf_record']) & (data_table['has_dmarc_record']==False)]"
   ]
  },
  {
   "cell_type": "markdown",
   "metadata": {},
   "source": [
    "## Domains with no SPF but DMARC"
   ]
  },
  {
   "cell_type": "code",
   "execution_count": null,
   "metadata": {
    "scrolled": true
   },
   "outputs": [],
   "source": [
    "data_table.loc[(data_table['has_spf_record']==False) & (data_table['has_dmarc_record'])]"
   ]
  },
  {
   "cell_type": "code",
   "execution_count": null,
   "metadata": {
    "scrolled": false
   },
   "outputs": [],
   "source": [
    "from typing import List\n",
    "\n",
    "def concat_columns(row, columns):\n",
    "    answer = \"\"\n",
    "    for x in columns:\n",
    "        answer += f'{x}: {str(row[x])};'\n",
    "    return answer\n",
    "\n",
    "\n",
    "def graph_columns(dataset, column_names: List[str] = None, custom_lambda = None):\n",
    "    # spf_and_dmarc = data_table.value_counts(\"h\")\n",
    "    # print(data_table.iloc[0][\"dmarc_rua\"])\n",
    "    assert column_names is None or custom_lambda is None\n",
    "    assert column_names is not None or custom_lambda is not None\n",
    "\n",
    "    if column_names:\n",
    "        custom_lambda = lambda row: concat_columns(row, column_names)\n",
    "        \n",
    "    data_set_applied = dataset.apply(custom_lambda, axis=1)\n",
    "    \n",
    "    data_set_applied_counted = data_set_applied.value_counts()\n",
    "    print(data_set_applied_counted)\n",
    "    \n",
    "    # plt.style.use('dark_background')\n",
    "    data_set_applied_counted.plot.pie(\n",
    "        ylabel=\"TODO\",\n",
    "        radius=1,\n",
    "        autopct='%1.1f%%',\n",
    "        figsize=(10,10)\n",
    "    ).legend(prop={'size': 20})\n",
    "    \n",
    "\n",
    "graph_columns(data_table, [\"has_spf_record\", \"has_dmarc_record\"])\n"
   ]
  },
  {
   "cell_type": "code",
   "execution_count": null,
   "metadata": {},
   "outputs": [],
   "source": [
    "graph_columns(data_table, custom_lambda = lambda row: concat_columns(row, [\"has_spf_record\", \"has_dmarc_record\"]))"
   ]
  },
  {
   "cell_type": "code",
   "execution_count": null,
   "metadata": {},
   "outputs": [],
   "source": [
    "graph_columns(data_table, [\"has_spf_record\"])"
   ]
  },
  {
   "cell_type": "code",
   "execution_count": null,
   "metadata": {},
   "outputs": [],
   "source": [
    "graph_columns(data_table, [\"has_dmarc_record\"])"
   ]
  },
  {
   "cell_type": "code",
   "execution_count": null,
   "metadata": {},
   "outputs": [],
   "source": [
    "graph_columns(data_table, [\"dmarc_action\"])"
   ]
  },
  {
   "cell_type": "code",
   "execution_count": null,
   "metadata": {},
   "outputs": [],
   "source": [
    "graph_columns(data_table, [\"has_mx_record\"])"
   ]
  },
  {
   "cell_type": "code",
   "execution_count": null,
   "metadata": {},
   "outputs": [],
   "source": [
    "graph_columns(data_table, [\"is_main_domain\"])"
   ]
  },
  {
   "cell_type": "code",
   "execution_count": null,
   "metadata": {},
   "outputs": [],
   "source": [
    "graph_columns(data_table, [\"extract_largest_direct_ranges_ip4\"])"
   ]
  },
  {
   "cell_type": "code",
   "execution_count": null,
   "metadata": {},
   "outputs": [],
   "source": [
    "graph_columns(data_table, [\"dmarc_has_reporting\"])"
   ]
  },
  {
   "cell_type": "code",
   "execution_count": null,
   "metadata": {},
   "outputs": [],
   "source": [
    "graph_columns(data_table, [\"dmarc_reporting\"])"
   ]
  },
  {
   "cell_type": "code",
   "execution_count": null,
   "metadata": {},
   "outputs": [],
   "source": [
    "# warning: has_dmarc instead of data_table\n",
    "graph_columns(has_dmarc, [\"dmarc_reporting\"])"
   ]
  },
  {
   "cell_type": "code",
   "execution_count": null,
   "metadata": {},
   "outputs": [],
   "source": [
    "graph_columns(perm_errors, [\"pyspf_msg\"])"
   ]
  },
  {
   "cell_type": "code",
   "execution_count": null,
   "metadata": {},
   "outputs": [],
   "source": []
  }
 ],
 "metadata": {
  "kernelspec": {
   "display_name": "Python 3",
   "language": "python",
   "name": "python3"
  },
  "language_info": {
   "codemirror_mode": {
    "name": "ipython",
    "version": 3
   },
   "file_extension": ".py",
   "mimetype": "text/x-python",
   "name": "python",
   "nbconvert_exporter": "python",
   "pygments_lexer": "ipython3",
   "version": "3.8.5"
  }
 },
 "nbformat": 4,
 "nbformat_minor": 4
}
